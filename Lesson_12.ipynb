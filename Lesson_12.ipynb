{
  "nbformat": 4,
  "nbformat_minor": 0,
  "metadata": {
    "colab": {
      "name": "Lesson 12.ipynb",
      "provenance": []
    },
    "kernelspec": {
      "name": "python3",
      "display_name": "Python 3"
    },
    "language_info": {
      "name": "python"
    }
  },
  "cells": [
    {
      "cell_type": "markdown",
      "metadata": {
        "id": "aU96nWVmSZHT"
      },
      "source": [
        "# OOP example"
      ]
    },
    {
      "cell_type": "code",
      "metadata": {
        "colab": {
          "base_uri": "https://localhost:8080/",
          "height": 675
        },
        "id": "EN8HJVC3SKwn",
        "outputId": "66c15694-242d-4c7d-b941-b10ed8a0cce5"
      },
      "source": [
        "from dataclasses import dataclass\n",
        "\n",
        "@dataclass\n",
        "class Dish:\n",
        "    name:str\n",
        "    price:int\n",
        "\n",
        "class Menu(dict):\n",
        "    def print_me(self):\n",
        "        print(self)\n",
        "\n",
        "menu = Menu()\n",
        "def read_dish():\n",
        "    name= input('name? ')\n",
        "    while True:\n",
        "        try:\n",
        "            price=int(input('name? '))\n",
        "            break\n",
        "        except ValueError:\n",
        "            continue\n",
        "    return Dish(name, price)\n",
        "\n",
        "while True:\n",
        "    print('1) add dish')\n",
        "    print('2) delete dish')\n",
        "    ans = input('what do you want to do? ')\n",
        "    if ans not in ['1', '2']:\n",
        "        continue\n",
        "\n",
        "    if ans == '1':\n",
        "        dish = read_dish()\n",
        "        menu[dish.name] = dish\n",
        "        menu.print_me()\n"
      ],
      "execution_count": 2,
      "outputs": [
        {
          "output_type": "stream",
          "name": "stdout",
          "text": [
            "1) add dish\n",
            "2) delete dish\n",
            "what do you want to do? 1\n",
            "name? falafel\n",
            "name? 12\n",
            "{'falafel': Dish(name='falafel', price=12)}\n",
            "1) add dish\n",
            "2) delete dish\n"
          ]
        },
        {
          "output_type": "error",
          "ename": "KeyboardInterrupt",
          "evalue": "ignored",
          "traceback": [
            "\u001b[0;31m---------------------------------------------------------------------------\u001b[0m",
            "\u001b[0;31mKeyboardInterrupt\u001b[0m                         Traceback (most recent call last)",
            "\u001b[0;32m/usr/local/lib/python3.7/dist-packages/ipykernel/kernelbase.py\u001b[0m in \u001b[0;36m_input_request\u001b[0;34m(self, prompt, ident, parent, password)\u001b[0m\n\u001b[1;32m    728\u001b[0m             \u001b[0;32mtry\u001b[0m\u001b[0;34m:\u001b[0m\u001b[0;34m\u001b[0m\u001b[0;34m\u001b[0m\u001b[0m\n\u001b[0;32m--> 729\u001b[0;31m                 \u001b[0mident\u001b[0m\u001b[0;34m,\u001b[0m \u001b[0mreply\u001b[0m \u001b[0;34m=\u001b[0m \u001b[0mself\u001b[0m\u001b[0;34m.\u001b[0m\u001b[0msession\u001b[0m\u001b[0;34m.\u001b[0m\u001b[0mrecv\u001b[0m\u001b[0;34m(\u001b[0m\u001b[0mself\u001b[0m\u001b[0;34m.\u001b[0m\u001b[0mstdin_socket\u001b[0m\u001b[0;34m,\u001b[0m \u001b[0;36m0\u001b[0m\u001b[0;34m)\u001b[0m\u001b[0;34m\u001b[0m\u001b[0;34m\u001b[0m\u001b[0m\n\u001b[0m\u001b[1;32m    730\u001b[0m             \u001b[0;32mexcept\u001b[0m \u001b[0mException\u001b[0m\u001b[0;34m:\u001b[0m\u001b[0;34m\u001b[0m\u001b[0;34m\u001b[0m\u001b[0m\n",
            "\u001b[0;32m/usr/local/lib/python3.7/dist-packages/jupyter_client/session.py\u001b[0m in \u001b[0;36mrecv\u001b[0;34m(self, socket, mode, content, copy)\u001b[0m\n\u001b[1;32m    802\u001b[0m         \u001b[0;32mtry\u001b[0m\u001b[0;34m:\u001b[0m\u001b[0;34m\u001b[0m\u001b[0;34m\u001b[0m\u001b[0m\n\u001b[0;32m--> 803\u001b[0;31m             \u001b[0mmsg_list\u001b[0m \u001b[0;34m=\u001b[0m \u001b[0msocket\u001b[0m\u001b[0;34m.\u001b[0m\u001b[0mrecv_multipart\u001b[0m\u001b[0;34m(\u001b[0m\u001b[0mmode\u001b[0m\u001b[0;34m,\u001b[0m \u001b[0mcopy\u001b[0m\u001b[0;34m=\u001b[0m\u001b[0mcopy\u001b[0m\u001b[0;34m)\u001b[0m\u001b[0;34m\u001b[0m\u001b[0;34m\u001b[0m\u001b[0m\n\u001b[0m\u001b[1;32m    804\u001b[0m         \u001b[0;32mexcept\u001b[0m \u001b[0mzmq\u001b[0m\u001b[0;34m.\u001b[0m\u001b[0mZMQError\u001b[0m \u001b[0;32mas\u001b[0m \u001b[0me\u001b[0m\u001b[0;34m:\u001b[0m\u001b[0;34m\u001b[0m\u001b[0;34m\u001b[0m\u001b[0m\n",
            "\u001b[0;32m/usr/local/lib/python3.7/dist-packages/zmq/sugar/socket.py\u001b[0m in \u001b[0;36mrecv_multipart\u001b[0;34m(self, flags, copy, track)\u001b[0m\n\u001b[1;32m    624\u001b[0m         \"\"\"\n\u001b[0;32m--> 625\u001b[0;31m         \u001b[0mparts\u001b[0m \u001b[0;34m=\u001b[0m \u001b[0;34m[\u001b[0m\u001b[0mself\u001b[0m\u001b[0;34m.\u001b[0m\u001b[0mrecv\u001b[0m\u001b[0;34m(\u001b[0m\u001b[0mflags\u001b[0m\u001b[0;34m,\u001b[0m \u001b[0mcopy\u001b[0m\u001b[0;34m=\u001b[0m\u001b[0mcopy\u001b[0m\u001b[0;34m,\u001b[0m \u001b[0mtrack\u001b[0m\u001b[0;34m=\u001b[0m\u001b[0mtrack\u001b[0m\u001b[0;34m)\u001b[0m\u001b[0;34m]\u001b[0m\u001b[0;34m\u001b[0m\u001b[0;34m\u001b[0m\u001b[0m\n\u001b[0m\u001b[1;32m    626\u001b[0m         \u001b[0;31m# have first part already, only loop while more to receive\u001b[0m\u001b[0;34m\u001b[0m\u001b[0;34m\u001b[0m\u001b[0;34m\u001b[0m\u001b[0m\n",
            "\u001b[0;32mzmq/backend/cython/socket.pyx\u001b[0m in \u001b[0;36mzmq.backend.cython.socket.Socket.recv\u001b[0;34m()\u001b[0m\n",
            "\u001b[0;32mzmq/backend/cython/socket.pyx\u001b[0m in \u001b[0;36mzmq.backend.cython.socket.Socket.recv\u001b[0;34m()\u001b[0m\n",
            "\u001b[0;32mzmq/backend/cython/socket.pyx\u001b[0m in \u001b[0;36mzmq.backend.cython.socket._recv_copy\u001b[0;34m()\u001b[0m\n",
            "\u001b[0;32m/usr/local/lib/python3.7/dist-packages/zmq/backend/cython/checkrc.pxd\u001b[0m in \u001b[0;36mzmq.backend.cython.checkrc._check_rc\u001b[0;34m()\u001b[0m\n",
            "\u001b[0;31mKeyboardInterrupt\u001b[0m: ",
            "\nDuring handling of the above exception, another exception occurred:\n",
            "\u001b[0;31mKeyboardInterrupt\u001b[0m                         Traceback (most recent call last)",
            "\u001b[0;32m<ipython-input-2-43ec1e234eb2>\u001b[0m in \u001b[0;36m<module>\u001b[0;34m()\u001b[0m\n\u001b[1;32m     24\u001b[0m     \u001b[0mprint\u001b[0m\u001b[0;34m(\u001b[0m\u001b[0;34m'1) add dish'\u001b[0m\u001b[0;34m)\u001b[0m\u001b[0;34m\u001b[0m\u001b[0;34m\u001b[0m\u001b[0m\n\u001b[1;32m     25\u001b[0m     \u001b[0mprint\u001b[0m\u001b[0;34m(\u001b[0m\u001b[0;34m'2) delete dish'\u001b[0m\u001b[0;34m)\u001b[0m\u001b[0;34m\u001b[0m\u001b[0;34m\u001b[0m\u001b[0m\n\u001b[0;32m---> 26\u001b[0;31m     \u001b[0mans\u001b[0m \u001b[0;34m=\u001b[0m \u001b[0minput\u001b[0m\u001b[0;34m(\u001b[0m\u001b[0;34m'what do you want to do? '\u001b[0m\u001b[0;34m)\u001b[0m\u001b[0;34m\u001b[0m\u001b[0;34m\u001b[0m\u001b[0m\n\u001b[0m\u001b[1;32m     27\u001b[0m     \u001b[0;32mif\u001b[0m \u001b[0mans\u001b[0m \u001b[0;32mnot\u001b[0m \u001b[0;32min\u001b[0m \u001b[0;34m[\u001b[0m\u001b[0;34m'1'\u001b[0m\u001b[0;34m,\u001b[0m \u001b[0;34m'2'\u001b[0m\u001b[0;34m]\u001b[0m\u001b[0;34m:\u001b[0m\u001b[0;34m\u001b[0m\u001b[0;34m\u001b[0m\u001b[0m\n\u001b[1;32m     28\u001b[0m         \u001b[0;32mcontinue\u001b[0m\u001b[0;34m\u001b[0m\u001b[0;34m\u001b[0m\u001b[0m\n",
            "\u001b[0;32m/usr/local/lib/python3.7/dist-packages/ipykernel/kernelbase.py\u001b[0m in \u001b[0;36mraw_input\u001b[0;34m(self, prompt)\u001b[0m\n\u001b[1;32m    702\u001b[0m             \u001b[0mself\u001b[0m\u001b[0;34m.\u001b[0m\u001b[0m_parent_ident\u001b[0m\u001b[0;34m,\u001b[0m\u001b[0;34m\u001b[0m\u001b[0;34m\u001b[0m\u001b[0m\n\u001b[1;32m    703\u001b[0m             \u001b[0mself\u001b[0m\u001b[0;34m.\u001b[0m\u001b[0m_parent_header\u001b[0m\u001b[0;34m,\u001b[0m\u001b[0;34m\u001b[0m\u001b[0;34m\u001b[0m\u001b[0m\n\u001b[0;32m--> 704\u001b[0;31m             \u001b[0mpassword\u001b[0m\u001b[0;34m=\u001b[0m\u001b[0;32mFalse\u001b[0m\u001b[0;34m,\u001b[0m\u001b[0;34m\u001b[0m\u001b[0;34m\u001b[0m\u001b[0m\n\u001b[0m\u001b[1;32m    705\u001b[0m         )\n\u001b[1;32m    706\u001b[0m \u001b[0;34m\u001b[0m\u001b[0m\n",
            "\u001b[0;32m/usr/local/lib/python3.7/dist-packages/ipykernel/kernelbase.py\u001b[0m in \u001b[0;36m_input_request\u001b[0;34m(self, prompt, ident, parent, password)\u001b[0m\n\u001b[1;32m    732\u001b[0m             \u001b[0;32mexcept\u001b[0m \u001b[0mKeyboardInterrupt\u001b[0m\u001b[0;34m:\u001b[0m\u001b[0;34m\u001b[0m\u001b[0;34m\u001b[0m\u001b[0m\n\u001b[1;32m    733\u001b[0m                 \u001b[0;31m# re-raise KeyboardInterrupt, to truncate traceback\u001b[0m\u001b[0;34m\u001b[0m\u001b[0;34m\u001b[0m\u001b[0;34m\u001b[0m\u001b[0m\n\u001b[0;32m--> 734\u001b[0;31m                 \u001b[0;32mraise\u001b[0m \u001b[0mKeyboardInterrupt\u001b[0m\u001b[0;34m\u001b[0m\u001b[0;34m\u001b[0m\u001b[0m\n\u001b[0m\u001b[1;32m    735\u001b[0m             \u001b[0;32melse\u001b[0m\u001b[0;34m:\u001b[0m\u001b[0;34m\u001b[0m\u001b[0;34m\u001b[0m\u001b[0m\n\u001b[1;32m    736\u001b[0m                 \u001b[0;32mbreak\u001b[0m\u001b[0;34m\u001b[0m\u001b[0;34m\u001b[0m\u001b[0m\n",
            "\u001b[0;31mKeyboardInterrupt\u001b[0m: "
          ]
        }
      ]
    },
    {
      "cell_type": "code",
      "metadata": {
        "id": "riJnV6tbUHlw"
      },
      "source": [
        ""
      ],
      "execution_count": null,
      "outputs": []
    },
    {
      "cell_type": "markdown",
      "metadata": {
        "id": "6mPJn6p3kQdu"
      },
      "source": [
        "# Project\n",
        "\n",
        "- lesson 15 pushed to 6/12\n",
        "- project will be submitted in lesson 16 (10/12)\n",
        "- in a colab notebook\n",
        "  - if you MUST not use colab (for instance, building a server, or a game), you must submit it as a github project (will teach about it next lesson)\n",
        "- remember Hofstatder law: \"It always takes more time than you thought, even after taking Hofstater's into consideration\"\n",
        "- points\n",
        "  1. finishing!\n",
        "  2. code quality (names of variables, how nice are the loops, proper use of classes, [pep8](https://gist.github.com/RichardBronosky/454964087739a449da04) \n",
        "  3. size of the task - impressiveness\n",
        "  4. teacher's discretion"
      ]
    },
    {
      "cell_type": "code",
      "metadata": {
        "id": "mwSXyFOxs7xU"
      },
      "source": [
        ""
      ],
      "execution_count": null,
      "outputs": []
    },
    {
      "cell_type": "markdown",
      "metadata": {
        "id": "IHlfQ9SPzNh1"
      },
      "source": [
        "# regex"
      ]
    },
    {
      "cell_type": "code",
      "metadata": {
        "colab": {
          "base_uri": "https://localhost:8080/"
        },
        "id": "_mW2eRjHzOUi",
        "outputId": "eae969d6-2afb-4cc5-b252-14e1b56179e9"
      },
      "source": [
        "print(\"c:\\newfolder\\timmy.txt\")"
      ],
      "execution_count": 5,
      "outputs": [
        {
          "output_type": "stream",
          "name": "stdout",
          "text": [
            "c:\n",
            "ewfolder\timmy.txt\n"
          ]
        }
      ]
    },
    {
      "cell_type": "code",
      "metadata": {
        "colab": {
          "base_uri": "https://localhost:8080/"
        },
        "id": "eIHY5p-KzUfM",
        "outputId": "6ff28753-d66a-473b-da18-f56e31adbf50"
      },
      "source": [
        "print(r\"c:\\newfolder\\timmy.txt\")"
      ],
      "execution_count": 6,
      "outputs": [
        {
          "output_type": "stream",
          "name": "stdout",
          "text": [
            "c:\\newfolder\\timmy.txt\n"
          ]
        }
      ]
    },
    {
      "cell_type": "code",
      "metadata": {
        "colab": {
          "base_uri": "https://localhost:8080/"
        },
        "id": "1ruoSYvrzcOi",
        "outputId": "51185ad9-224f-42e5-c0b9-f81eebe224fa"
      },
      "source": [
        "# coding=utf8\n",
        "# the above tag defines encoding for this document and is for Python 2.x compatibility\n",
        "\n",
        "import re\n",
        "\n",
        "regex = r\"(\\d\\d)([/\\-\\.])(\\d\\d)\\2(\\d{4})\"\n",
        "\n",
        "test_str = (\"31.12.2021\\n\"\n",
        "\t\"31-12-2021\\n\\n\"\n",
        "\t\"31-12/2021\\n\"\n",
        "\t\"31.12/2012\\n\\n\"\n",
        "\t\"(\\\\d\\\\d)/(\\\\d\\\\d)/(\\\\d{4})\\n\"\n",
        "\t\"31/12/2021\\n\"\n",
        "\t\"3/12/2021\\n\\n\"\n",
        "\t\"\\\\b(([1-9][0-9]*|0)(\\\\.\\\\d+)?)\\\\b\\n\"\n",
        "\t\"3.0\\n\"\n",
        "\t\"3.14\\n\"\n",
        "\t\"0.1234\\n\"\n",
        "\t\"0.0000000000000000000000000000000123\\n\"\n",
        "\t\"3\\n\"\n",
        "\t\"23\\n\"\n",
        "\t\"123\\n\"\n",
        "\t\"0.0000000000000000000\\n\\n\"\n",
        "\t\"0000000000000\\n\"\n",
        "\t\"0000000123123213\\n\"\n",
        "\t\"10 20 30\\n\\n\"\n",
        "\t\"[\\\\+\\\\-]?\\\\d+\\n\"\n",
        "\t\"10\\n\"\n",
        "\t\"-10\\n\"\n",
        "\t\"--10\\n\"\n",
        "\t\"+10\\n\\n\\n\"\n",
        "\t\"one.*please\\n\"\n",
        "\t\"one beer bottle34543252 #$%#@$%@#$%@#4 23454354534 please\\n\\n\"\n",
        "\t\"\\\\b(([1-9]\\\\d*)|0)\\\\b\\n\"\n",
        "\t\"1\\n\"\n",
        "\t\"10\\n\"\n",
        "\t\"123123321\\n\"\n",
        "\t\"0\\n\"\n",
        "\t\"0123\\n\"\n",
        "\t\"0000000000000345\\n\"\n",
        "\t\"0000000000\\n\"\n",
        "\t\"0\\n\\n\"\n",
        "\t\"0 10 101 200 000 0123\\n\\n\\n\\n\"\n",
        "\t\"catdogdogdog cat\\n\"\n",
        "\t\"my cat is wonderful, but my doggggggggggggggggggggg dogdogdogis amazing\\n\\n\"\n",
        "\t\"31 10 2011\\n\"\n",
        "\t\"\\\\d{9}\\n\"\n",
        "\t\"[0-9]{9}\\n\"\n",
        "\t\"123456789354253452435243543\\n\"\n",
        "\t\"34543\\n\"\n",
        "\t\"123456789012345667\\n\"\n",
        "\t\"12345678901234557\\n\\n\\n\"\n",
        "\t\"[a-zA-Z_]+[a-zA-Z_0-9]*\\n\"\n",
        "\t\"class CellularPhone:\\n\"\n",
        "\t\"    pass\\n\\n\"\n",
        "\t\"phone = CellularPhone()\\n\"\n",
        "\t\"x = 10\\n\"\n",
        "\t\"x1 = 10\\n\"\n",
        "\t\"x2 = 20\\n\\n\"\n",
        "\t\"10x\\n\\n\"\n",
        "\t\"[A-Z][a-z]+\\n\"\n",
        "\t\"look at the ball, Vincent, isnt it lovely and red\\n\\n\"\n",
        "\t\"one [a-z]+ please\\n\"\n",
        "\t\"one ball please , one  bal oon fgsdfg dsfgd sdg dg dfsg dsfg  please\\n\\n\"\n",
        "\t\"[a-z]+ing\\n\"\n",
        "\t\"climbing diving skiing coding blabing dog 1running\\n\"\n",
        "\t\"ringeringingingignging fgsfgingfgdfdg \")\n",
        "\n",
        "matches = re.finditer(regex, test_str, re.MULTILINE)\n",
        "\n",
        "for matchNum, match in enumerate(matches, start=1):\n",
        "    \n",
        "    print (\"Match {matchNum} was found at {start}-{end}: {match}\".format(matchNum = matchNum, start = match.start(), end = match.end(), match = match.group()))\n",
        "    \n",
        "    for groupNum in range(0, len(match.groups())):\n",
        "        groupNum = groupNum + 1\n",
        "        \n",
        "        print (\"Group {groupNum} found at {start}-{end}: {group}\".format(groupNum = groupNum, start = match.start(groupNum), end = match.end(groupNum), group = match.group(groupNum)))\n",
        "\n",
        "# Note: for Python 2.7 compatibility, use ur\"\" to prefix the regex and u\"\" to prefix the test string and substitution.\n"
      ],
      "execution_count": 7,
      "outputs": [
        {
          "output_type": "stream",
          "name": "stdout",
          "text": [
            "Match 1 was found at 0-10: 31.12.2021\n",
            "Group 1 found at 0-2: 31\n",
            "Group 2 found at 2-3: .\n",
            "Group 3 found at 3-5: 12\n",
            "Group 4 found at 6-10: 2021\n",
            "Match 2 was found at 11-21: 31-12-2021\n",
            "Group 1 found at 11-13: 31\n",
            "Group 2 found at 13-14: -\n",
            "Group 3 found at 14-16: 12\n",
            "Group 4 found at 17-21: 2021\n",
            "Match 3 was found at 68-78: 31/12/2021\n",
            "Group 1 found at 68-70: 31\n",
            "Group 2 found at 70-71: /\n",
            "Group 3 found at 71-73: 12\n",
            "Group 4 found at 74-78: 2021\n"
          ]
        }
      ]
    },
    {
      "cell_type": "code",
      "metadata": {
        "colab": {
          "base_uri": "https://localhost:8080/"
        },
        "id": "Cr3mfGJM0Bbi",
        "outputId": "93f28b8c-3008-45df-fa45-ad40ca6d9e2c"
      },
      "source": [
        "for day, _, month, year in re.findall(regex, test_str):\n",
        "    print (year, month, day)"
      ],
      "execution_count": 9,
      "outputs": [
        {
          "output_type": "stream",
          "name": "stdout",
          "text": [
            "2021 12 31\n",
            "2021 12 31\n",
            "2021 12 31\n"
          ]
        }
      ]
    },
    {
      "cell_type": "code",
      "metadata": {
        "id": "zPLIY86W0f_B"
      },
      "source": [
        ""
      ],
      "execution_count": null,
      "outputs": []
    }
  ]
}